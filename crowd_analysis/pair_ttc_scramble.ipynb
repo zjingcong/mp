{
 "cells": [
  {
   "cell_type": "code",
   "execution_count": 1,
   "metadata": {},
   "outputs": [],
   "source": [
    "import numpy as np\n",
    "import pandas as pd\n",
    "import matplotlib.pyplot as plt"
   ]
  },
  {
   "cell_type": "code",
   "execution_count": 2,
   "metadata": {},
   "outputs": [],
   "source": [
    "# crowds data\n",
    "df = pd.read_csv('campus.csv')\n",
    "\n",
    "df2 = df.set_index(['time'])\n",
    "df_by_time = df2.sort_index()  # have to sort index to get slices on each frame\n",
    "df_by_time.index = df_by_time.index.map(unicode)  # set index to string\n",
    "\n",
    "df3 = df.set_index(['id'])\n",
    "df_by_id = df3.sort_index()\n",
    "\n",
    "time_frames = list(set(df_by_time.index.tolist()))"
   ]
  },
  {
   "cell_type": "code",
   "execution_count": 3,
   "metadata": {},
   "outputs": [],
   "source": [
    "import random\n",
    "\n",
    "# get rand agent from the given agent's trajectory\n",
    "def get_rand(agent_id):\n",
    "    # get agent trajectory\n",
    "    df_per_id = df_by_id.loc[agent_id: agent_id, :]\n",
    "    # random choice\n",
    "    traj_length = df_per_id.shape[0]\n",
    "    ix = random.choice(range(traj_length))\n",
    "    row = df_per_id.iloc[ix, :]\n",
    "    \n",
    "    return row"
   ]
  },
  {
   "cell_type": "code",
   "execution_count": 4,
   "metadata": {},
   "outputs": [
    {
     "name": "stdout",
     "output_type": "stream",
     "text": [
      "Processing Complete.\n"
     ]
    }
   ],
   "source": [
    "from ttc import *\n",
    "from datetime import datetime\n",
    "import json\n",
    "\n",
    "pair_ttc_scramble_list = list()\n",
    "\n",
    "for count, time in enumerate(time_frames, 1):\n",
    "    df_per_frame = df_by_time.loc[time: time, :]\n",
    "    \n",
    "    # print \"Process time: \", time, \"... Current time: \", str(datetime.now()), \"Complete: \", float(count) * 100 / len(time_frames), \"%\"\n",
    "    \n",
    "    agents = df_per_frame['id'].tolist()\n",
    "    for id0 in agents:\n",
    "        for id1 in agents:\n",
    "            if id0 < id1:\n",
    "                curr_row = get_rand(id0)\n",
    "                row = get_rand(id1)\n",
    "                tau = ttc(curr_row, row)\n",
    "                pair_ttc_scramble_list.append(tau)\n",
    "                \n",
    "print \"Processing Complete.\"\n",
    "\n",
    "# store internel data as json\n",
    "with open('pair_ttc_scramble.json', 'wb') as outfile:\n",
    "    json.dump(pair_ttc_scramble_list, outfile)"
   ]
  }
 ],
 "metadata": {
  "kernelspec": {
   "display_name": "Python 2",
   "language": "python",
   "name": "python2"
  },
  "language_info": {
   "codemirror_mode": {
    "name": "ipython",
    "version": 2
   },
   "file_extension": ".py",
   "mimetype": "text/x-python",
   "name": "python",
   "nbconvert_exporter": "python",
   "pygments_lexer": "ipython2",
   "version": "2.7.14"
  }
 },
 "nbformat": 4,
 "nbformat_minor": 2
}
