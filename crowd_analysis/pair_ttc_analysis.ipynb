{
 "cells": [
  {
   "cell_type": "code",
   "execution_count": 1,
   "metadata": {},
   "outputs": [],
   "source": [
    "import numpy as np\n",
    "import pandas as pd\n",
    "import matplotlib.pyplot as plt"
   ]
  },
  {
   "cell_type": "code",
   "execution_count": 19,
   "metadata": {},
   "outputs": [
    {
     "name": "stdout",
     "output_type": "stream",
     "text": [
      "total pair:  35952\n"
     ]
    }
   ],
   "source": [
    "import json\n",
    "\n",
    "pair_ttc_freq = dict()\n",
    "\n",
    "# process pair_ttc data\n",
    "with open('pair_ttc.json') as infile:\n",
    "    pair_ttc_data = json.load(infile)\n",
    "    \n",
    "for t in pair_ttc_data:\n",
    "        # round tau\n",
    "        tau = float(format(t, '.2f'))\n",
    "        if pair_ttc_freq.has_key(tau):\n",
    "            pair_ttc_freq[tau] = pair_ttc_freq[tau] + 1\n",
    "        else:\n",
    "            pair_ttc_freq[tau] = 1\n",
    "\n",
    "total_pair = len([i for i in pair_ttc_data if i != np.inf])\n",
    "print 'total pair: ', total_pair"
   ]
  },
  {
   "cell_type": "code",
   "execution_count": 20,
   "metadata": {},
   "outputs": [],
   "source": [
    "pair_lists = sorted(pair_ttc_freq.items()) # sorted by key, return a list of tuples\n",
    "pair_df = pd.DataFrame(pair_lists, columns=['tau', 'freq'])\n",
    "# normalize freq\n",
    "pair_df['freq'] = pair_df['freq'].apply(lambda x: x / float(total_pair))\n",
    "# write pair ttc csv\n",
    "pair_df.to_csv('pairwise_ttc.csv', index=False)"
   ]
  },
  {
   "cell_type": "code",
   "execution_count": 21,
   "metadata": {},
   "outputs": [
    {
     "data": {
      "image/png": "[encoded data removed]",
      "text/plain": [
       "<matplotlib.figure.Figure at 0x7f7cf2012ed0>"
      ]
     },
     "metadata": {},
     "output_type": "display_data"
    }
   ],
   "source": [
    "# draw pair ttc data\n",
    "pair_df = pair_df.set_index('tau')\n",
    "pair_df.plot( style=[])\n",
    "plt.show()"
   ]
  },
  {
   "cell_type": "code",
   "execution_count": 18,
   "metadata": {},
   "outputs": [
    {
     "ename": "SyntaxError",
     "evalue": "invalid syntax (<ipython-input-18-db648c6d37ef>, line 1)",
     "output_type": "error",
     "traceback": [
      "\u001b[0;36m  File \u001b[0;32m\"<ipython-input-18-db648c6d37ef>\"\u001b[0;36m, line \u001b[0;32m1\u001b[0m\n\u001b[0;31m    [i for i in pair_ttc_data i != np.inf]\u001b[0m\n\u001b[0m                              ^\u001b[0m\n\u001b[0;31mSyntaxError\u001b[0m\u001b[0;31m:\u001b[0m invalid syntax\n"
     ]
    }
   ],
   "source": [
    "[i for i in pair_ttc_data i != np.inf]"
   ]
  },
  {
   "cell_type": "code",
   "execution_count": null,
   "metadata": {},
   "outputs": [],
   "source": []
  }
 ],
 "metadata": {
  "kernelspec": {
   "display_name": "Python 2",
   "language": "python",
   "name": "python2"
  },
  "language_info": {
   "codemirror_mode": {
    "name": "ipython",
    "version": 2
   },
   "file_extension": ".py",
   "mimetype": "text/x-python",
   "name": "python",
   "nbconvert_exporter": "python",
   "pygments_lexer": "ipython2",
   "version": "2.7.14"
  }
 },
 "nbformat": 4,
 "nbformat_minor": 2
}
