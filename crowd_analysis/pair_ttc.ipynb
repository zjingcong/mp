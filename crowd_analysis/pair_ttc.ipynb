{
 "cells": [
  {
   "cell_type": "code",
   "execution_count": 1,
   "metadata": {},
   "outputs": [],
   "source": [
    "import numpy as np\n",
    "import pandas as pd\n",
    "import matplotlib.pyplot as plt"
   ]
  },
  {
   "cell_type": "code",
   "execution_count": 3,
   "metadata": {},
   "outputs": [
    {
     "name": "stdout",
     "output_type": "stream",
     "text": [
      "time_frames number:  7954\n"
     ]
    }
   ],
   "source": [
    "# crowds data\n",
    "df = pd.read_csv('campus.csv')\n",
    "df2 = df.set_index(['time'])\n",
    "df_by_time = df2.sort_index()  # have to sort index to get slices on each frame\n",
    "df_by_time.index = df_by_time.index.map(unicode)  # set index to string\n",
    "# get all the times\n",
    "time_frames = list(set(df_by_time.index.tolist()))\n",
    "\n",
    "# print df_by_time\n",
    "print 'time_frames number: ', len(time_frames)"
   ]
  },
  {
   "cell_type": "code",
   "execution_count": 5,
   "metadata": {},
   "outputs": [
    {
     "name": "stdout",
     "output_type": "stream",
     "text": [
      "Processing Complete.\n"
     ]
    }
   ],
   "source": [
    "from ttc import *\n",
    "from datetime import datetime\n",
    "import json\n",
    "\n",
    "pair_ttc_list = list()\n",
    "\n",
    "for count, time in enumerate(time_frames, 1):\n",
    "    df_per_frame = df_by_time.loc[time: time, :]\n",
    "    \n",
    "    # print \"Process time: \", time, \"... Current time: \", str(datetime.now()), \"Complete: \", float(count) * 100 / len(time_frames), \"%\"\n",
    "    \n",
    "    df_by_id = df_per_frame.set_index('id')\n",
    "    for id0, curr_row in df_by_id.T.iteritems():\n",
    "        for id1, row in df_by_id.T.iteritems():\n",
    "            if id0 < id1:\n",
    "                tau = ttc(curr_row, row)\n",
    "                pair_ttc_list.append(tau)\n",
    "\n",
    "print \"Processing Complete.\"\n",
    "\n",
    "# store internel data as json\n",
    "with open('pair_ttc.json', 'wb') as outfile:\n",
    "    json.dump(pair_ttc_list, outfile)"
   ]
  }
 ],
 "metadata": {
  "kernelspec": {
   "display_name": "Python 2",
   "language": "python",
   "name": "python2"
  },
  "language_info": {
   "codemirror_mode": {
    "name": "ipython",
    "version": 2
   },
   "file_extension": ".py",
   "mimetype": "text/x-python",
   "name": "python",
   "nbconvert_exporter": "python",
   "pygments_lexer": "ipython2",
   "version": "2.7.14"
  }
 },
 "nbformat": 4,
 "nbformat_minor": 2
}
