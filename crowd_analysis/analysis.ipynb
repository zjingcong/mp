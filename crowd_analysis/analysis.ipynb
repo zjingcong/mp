{
 "cells": [
  {
   "cell_type": "code",
   "execution_count": 26,
   "metadata": {},
   "outputs": [],
   "source": [
    "import numpy as np\n",
    "import pandas as pd\n",
    "import matplotlib.pyplot as plt\n",
    "import json"
   ]
  },
  {
   "cell_type": "code",
   "execution_count": 67,
   "metadata": {},
   "outputs": [],
   "source": [
    "def set_precision(t):\n",
    "    tau = float(format(t, '.1f'))\n",
    "    \n",
    "    return tau"
   ]
  },
  {
   "cell_type": "code",
   "execution_count": 68,
   "metadata": {},
   "outputs": [
    {
     "name": "stdout",
     "output_type": "stream",
     "text": [
      "total pair:  2679204\n",
      "total tau:  910\n"
     ]
    }
   ],
   "source": [
    "###### pairwise ttc values ######\n",
    "\n",
    "pair_ttc_freq = dict()\n",
    "\n",
    "# process pair_ttc data\n",
    "with open('pair_ttc.json') as infile:\n",
    "    pair_ttc_data = json.load(infile)\n",
    "    \n",
    "for t in pair_ttc_data:\n",
    "    # round tau\n",
    "    tau = set_precision(t)\n",
    "    if pair_ttc_freq.has_key(tau):\n",
    "        pair_ttc_freq[tau] = pair_ttc_freq[tau] + 1\n",
    "    else:\n",
    "        pair_ttc_freq[tau] = 1\n",
    "\n",
    "total_pair = len(pair_ttc_data)\n",
    "print 'total pair: ', total_pair\n",
    "print 'total tau: ', len(pair_ttc_freq)"
   ]
  },
  {
   "cell_type": "code",
   "execution_count": 70,
   "metadata": {},
   "outputs": [],
   "source": [
    "pair_lists = sorted(pair_ttc_freq.items()) # sorted by key, return a list of tuples\n",
    "pair_df = pd.DataFrame(pair_lists, columns=['tau', 'freq'])\n",
    "# normalize freq\n",
    "pair_df['freq'] = pair_df['freq'].apply(lambda x: x / float(total_pair))\n",
    "# write pair ttc csv\n",
    "pair_df.to_csv('pairwise_ttc.csv', index=False)"
   ]
  },
  {
   "cell_type": "code",
   "execution_count": 71,
   "metadata": {},
   "outputs": [
    {
     "data": {
      "image/png": "[encoded data removed]",
      "text/plain": [
       "<matplotlib.figure.Figure at 0x7f7cf1b81b10>"
      ]
     },
     "metadata": {},
     "output_type": "display_data"
    }
   ],
   "source": [
    "# draw pair ttc data\n",
    "pair_df = pair_df.set_index('tau')\n",
    "pair_df.plot( style=[])\n",
    "plt.show()"
   ]
  },
  {
   "cell_type": "code",
   "execution_count": 72,
   "metadata": {},
   "outputs": [
    {
     "name": "stdout",
     "output_type": "stream",
     "text": [
      "total pair scramble:  2679204\n",
      "total tau:  1079\n"
     ]
    }
   ],
   "source": [
    "###### pairwise ttc scrambled values ######\n",
    "\n",
    "pair_ttc_scramble_freq = dict()\n",
    "\n",
    "# process pair_ttc data\n",
    "with open('pair_ttc_scramble.json') as infile:\n",
    "    pair_ttc_scramble_data = json.load(infile)\n",
    "    \n",
    "for t in pair_ttc_scramble_data:\n",
    "    # round tau\n",
    "    tau = set_precision(t)\n",
    "    if pair_ttc_scramble_freq.has_key(tau):\n",
    "        pair_ttc_scramble_freq[tau] = pair_ttc_scramble_freq[tau] + 1\n",
    "    else:\n",
    "        pair_ttc_scramble_freq[tau] = 1\n",
    "\n",
    "total_pair_scramble = len(pair_ttc_scramble_data)\n",
    "print 'total pair scramble: ', total_pair_scramble\n",
    "print 'total tau: ', len(pair_ttc_scramble_freq)"
   ]
  },
  {
   "cell_type": "code",
   "execution_count": 73,
   "metadata": {},
   "outputs": [],
   "source": [
    "pair_scramble_lists = sorted(pair_ttc_scramble_freq.items()) # sorted by key, return a list of tuples\n",
    "pair_scramble_df = pd.DataFrame(pair_scramble_lists, columns=['tau', 'freq'])\n",
    "# normalize freq\n",
    "pair_scramble_df['freq'] = pair_scramble_df['freq'].apply(lambda x: x / float(total_pair_scramble))\n",
    "# write pair ttc csv\n",
    "pair_scramble_df.to_csv('pairwise_ttc_scrambles.csv', index=False)"
   ]
  },
  {
   "cell_type": "code",
   "execution_count": 74,
   "metadata": {},
   "outputs": [
    {
     "data": {
      "image/png": "[encoded data removed]",
      "text/plain": [
       "<matplotlib.figure.Figure at 0x7f7cf1d2c450>"
      ]
     },
     "metadata": {},
     "output_type": "display_data"
    }
   ],
   "source": [
    "# draw pair ttc scrambled data\n",
    "pair_scramble_df = pair_scramble_df.set_index('tau')\n",
    "pair_scramble_df.plot(style=[])\n",
    "plt.show()"
   ]
  }
 ],
 "metadata": {
  "kernelspec": {
   "display_name": "Python 2",
   "language": "python",
   "name": "python2"
  },
  "language_info": {
   "codemirror_mode": {
    "name": "ipython",
    "version": 2
   },
   "file_extension": ".py",
   "mimetype": "text/x-python",
   "name": "python",
   "nbconvert_exporter": "python",
   "pygments_lexer": "ipython2",
   "version": "2.7.14"
  }
 },
 "nbformat": 4,
 "nbformat_minor": 2
}
